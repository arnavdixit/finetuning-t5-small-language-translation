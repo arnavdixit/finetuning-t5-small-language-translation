{
 "cells": [
  {
   "cell_type": "code",
   "execution_count": 1,
   "id": "e3976549-f18d-4c10-a25c-a641aec9bf53",
   "metadata": {},
   "outputs": [],
   "source": [
    "%%capture\n",
    "!pip install transformers\n",
    "!pip install datasets\n",
    "!pip install tokenizers\n",
    "!pip install accelerate -U"
   ]
  },
  {
   "cell_type": "code",
   "execution_count": 1,
   "id": "b95c81db-c772-4624-8941-cc408f1731c1",
   "metadata": {},
   "outputs": [],
   "source": [
    "import torch\n",
    "torch.cuda.empty_cache()"
   ]
  },
  {
   "cell_type": "code",
   "execution_count": 2,
   "id": "50f4c757-d159-46b8-a03b-d4c3fae5c341",
   "metadata": {},
   "outputs": [
    {
     "name": "stdout",
     "output_type": "stream",
     "text": [
      "Cloning into 'finetuning-t5-small-language-translation'...\n",
      "remote: Enumerating objects: 15, done.\u001b[K\n",
      "remote: Counting objects: 100% (15/15), done.\u001b[K\n",
      "remote: Compressing objects: 100% (10/10), done.\u001b[K\n",
      "remote: Total 15 (delta 6), reused 13 (delta 4), pack-reused 0\u001b[K\n",
      "Receiving objects: 100% (15/15), done.\n",
      "Resolving deltas: 100% (6/6), done.\n"
     ]
    }
   ],
   "source": [
    "!git clone https://github.com/arnavdixit/finetuning-t5-small-language-translation.git"
   ]
  },
  {
   "cell_type": "code",
   "execution_count": 3,
   "id": "d663da29-4624-4304-8077-7c3f620d4acf",
   "metadata": {},
   "outputs": [],
   "source": [
    "%%capture\n",
    "%cd finetuning-t5-small-language-translation"
   ]
  },
  {
   "cell_type": "code",
   "execution_count": 4,
   "id": "299514a3-694f-44bc-94a9-cdbda4351e87",
   "metadata": {},
   "outputs": [
    {
     "data": {
      "text/plain": [
       "'/training/finetuning-t5-small-language-translation'"
      ]
     },
     "execution_count": 4,
     "metadata": {},
     "output_type": "execute_result"
    }
   ],
   "source": [
    "%pwd"
   ]
  },
  {
   "cell_type": "code",
   "execution_count": 5,
   "id": "a62a6d78-772c-4d50-aa12-c102f31fae18",
   "metadata": {},
   "outputs": [
    {
     "data": {
      "application/vnd.jupyter.widget-view+json": {
       "model_id": "378e5a2744644ee4b3452ddd9bc521f4",
       "version_major": 2,
       "version_minor": 0
      },
      "text/plain": [
       "Map:   0%|          | 0/189102 [00:00<?, ? examples/s]"
      ]
     },
     "metadata": {},
     "output_type": "display_data"
    },
    {
     "name": "stderr",
     "output_type": "stream",
     "text": [
      "Detected kernel version 5.4.0, which is below the recommended minimum of 5.5.0; this can cause the process to hang. It is recommended to upgrade the kernel to the minimum version or higher.\n"
     ]
    },
    {
     "name": "stdout",
     "output_type": "stream",
     "text": [
      "Data Ready for training.\n",
      "Training Starting\n"
     ]
    },
    {
     "data": {
      "text/html": [
       "\n",
       "    <div>\n",
       "      \n",
       "      <progress value='21276' max='21276' style='width:300px; height:20px; vertical-align: middle;'></progress>\n",
       "      [21276/21276 1:53:49, Epoch 3/3]\n",
       "    </div>\n",
       "    <table border=\"1\" class=\"dataframe\">\n",
       "  <thead>\n",
       " <tr style=\"text-align: left;\">\n",
       "      <th>Step</th>\n",
       "      <th>Training Loss</th>\n",
       "      <th>Validation Loss</th>\n",
       "    </tr>\n",
       "  </thead>\n",
       "  <tbody>\n",
       "    <tr>\n",
       "      <td>2128</td>\n",
       "      <td>0.111900</td>\n",
       "      <td>0.091536</td>\n",
       "    </tr>\n",
       "    <tr>\n",
       "      <td>4256</td>\n",
       "      <td>0.086100</td>\n",
       "      <td>0.071280</td>\n",
       "    </tr>\n",
       "    <tr>\n",
       "      <td>6384</td>\n",
       "      <td>0.074400</td>\n",
       "      <td>0.060788</td>\n",
       "    </tr>\n",
       "    <tr>\n",
       "      <td>8512</td>\n",
       "      <td>0.063700</td>\n",
       "      <td>0.054701</td>\n",
       "    </tr>\n",
       "    <tr>\n",
       "      <td>10640</td>\n",
       "      <td>0.060600</td>\n",
       "      <td>0.050894</td>\n",
       "    </tr>\n",
       "    <tr>\n",
       "      <td>12768</td>\n",
       "      <td>0.057400</td>\n",
       "      <td>0.048479</td>\n",
       "    </tr>\n",
       "    <tr>\n",
       "      <td>14896</td>\n",
       "      <td>0.055300</td>\n",
       "      <td>0.047013</td>\n",
       "    </tr>\n",
       "    <tr>\n",
       "      <td>17024</td>\n",
       "      <td>0.054400</td>\n",
       "      <td>0.046014</td>\n",
       "    </tr>\n",
       "    <tr>\n",
       "      <td>19152</td>\n",
       "      <td>0.054600</td>\n",
       "      <td>0.045480</td>\n",
       "    </tr>\n",
       "  </tbody>\n",
       "</table><p>"
      ],
      "text/plain": [
       "<IPython.core.display.HTML object>"
      ]
     },
     "metadata": {},
     "output_type": "display_data"
    },
    {
     "data": {
      "text/html": [
       "\n",
       "    <div>\n",
       "      \n",
       "      <progress value='788' max='788' style='width:300px; height:20px; vertical-align: middle;'></progress>\n",
       "      [788/788 01:19]\n",
       "    </div>\n",
       "    "
      ],
      "text/plain": [
       "<IPython.core.display.HTML object>"
      ]
     },
     "metadata": {},
     "output_type": "display_data"
    },
    {
     "name": "stdout",
     "output_type": "stream",
     "text": [
      "{'eval_loss': 0.04526492580771446, 'eval_runtime': 79.9007, 'eval_samples_per_second': 236.681, 'eval_steps_per_second': 9.862, 'epoch': 3.0}\n"
     ]
    }
   ],
   "source": [
    "from config import get_config\n",
    "cfg = get_config()\n",
    "cfg['batch_size'] = 24\n",
    "cfg['num_epochs'] = 3\n",
    "cfg['lr'] = 2e-5\n",
    "cfg[\"output_dir\"] = \"/results\"\n",
    "\n",
    "from train import run_training\n",
    "\n",
    "run_training(cfg)\n",
    "\n"
   ]
  },
  {
   "cell_type": "code",
   "execution_count": null,
   "id": "e692117a-d82c-47ca-a0e2-e7223b5cadff",
   "metadata": {},
   "outputs": [],
   "source": []
  }
 ],
 "metadata": {
  "kernelspec": {
   "display_name": "Python 3 (ipykernel)",
   "language": "python",
   "name": "python3"
  },
  "language_info": {
   "codemirror_mode": {
    "name": "ipython",
    "version": 3
   },
   "file_extension": ".py",
   "mimetype": "text/x-python",
   "name": "python",
   "nbconvert_exporter": "python",
   "pygments_lexer": "ipython3",
   "version": "3.10.13"
  }
 },
 "nbformat": 4,
 "nbformat_minor": 5
}
